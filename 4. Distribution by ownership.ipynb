{
 "cells": [
  {
   "cell_type": "markdown",
   "id": "d7b9fa07",
   "metadata": {},
   "source": [
    "# Distribution by ownership type"
   ]
  },
  {
   "cell_type": "code",
   "execution_count": 1,
   "id": "e6f8f54f",
   "metadata": {},
   "outputs": [],
   "source": [
    "import fiona\n",
    "import numpy as np\n",
    "import rasterio\n",
    "from rasterio import features\n",
    "from shapely.geometry import shape\n",
    "from tqdm import tqdm\n",
    "import os\n",
    "from rasterio.windows import Window, bounds, from_bounds\n",
    "from rasterio.enums import Resampling\n",
    "import pandas as pd"
   ]
  },
  {
   "cell_type": "markdown",
   "id": "30ea6422",
   "metadata": {},
   "source": [
    "# Table of contents\n",
    "\n",
    "#### [1. Base layer](#Base-layer)\n",
    "\n",
    "#### [2. Rasterizing cadastral map by ownership type](#Rasterizing-cadastral-map-by-ownership-type)\n",
    "\n",
    "#### [3. Tiff multiplication](#Tiff-multiplication)\n",
    "\n",
    "#### [4. Pixel count function](#Pixel-count-function)\n",
    "\n",
    "#### [5. Result](#Result)\n",
    "\n"
   ]
  },
  {
   "cell_type": "markdown",
   "id": "a636e47e",
   "metadata": {},
   "source": [
    "## Base layer\n",
    "[[Click here to turn back to the table of contents]](#Table-of-contents)"
   ]
  },
  {
   "cell_type": "code",
   "execution_count": 2,
   "id": "4b83af1a",
   "metadata": {},
   "outputs": [
    {
     "name": "stdout",
     "output_type": "stream",
     "text": [
      "Number of pixels equal to 1: 2716698675\n",
      "Total area of Estonia: 4346718 ha\n"
     ]
    }
   ],
   "source": [
    "#taking parameters from Estonian layer\n",
    "path_scenario_1_r = '../../Thesis_2024_updates/Raster_Data/Scenario_1/'\n",
    "file_name_whole_estonia_r = 'whole_estonia/Estonia_rasterized_0_1.tif'\n",
    "raster_base_layer = os.path.join(path_scenario_1_r, file_name_whole_estonia_r)\n",
    "\n",
    "with rasterio.open(raster_base_layer) as src:\n",
    "    base_trans = src.transform\n",
    "    base_profile = src.profile\n",
    "    base_shape = src.shape\n",
    "    base_data = src.read(1)\n",
    "    \n",
    "# Create a boolean mask where True represents pixels with value 1\n",
    "mask = base_data == 1\n",
    "\n",
    "# Count the number of True values in the mask\n",
    "num_total_pixels = np.sum(mask)\n",
    "total_area_ha = round((num_total_pixels * 16)/10000)\n",
    "\n",
    "print(\"Number of pixels equal to 1:\", num_total_pixels)\n",
    "print(\"Total area of Estonia: {} ha\".format(total_area_ha))"
   ]
  },
  {
   "cell_type": "markdown",
   "id": "cac0c0b8",
   "metadata": {},
   "source": [
    "## Rasterizing cadastral map by ownership type\n",
    "[[Click here to turn back to the table of contents]](#Table-of-contents)"
   ]
  },
  {
   "cell_type": "markdown",
   "id": "62ea9f86",
   "metadata": {},
   "source": [
    "Rasterization was done in QGIS.   \n",
    "Firstly, the ownership type data was translated to integer numbers using the following rules:\n",
    "\n",
    "CASE  \n",
    "WHEN  \"OMVORM\"  = 'Eraomand' THEN 1  \n",
    "WHEN  \"OMVORM\"  =  'Riigiomand' THEN 2  \n",
    "WHEN  \"OMVORM\"  =  'Munitsipaalomand' THEN 3  \n",
    "WHEN  \"OMVORM\"  =  'Omandi ulatus selgitamisel' THEN 4  \n",
    "WHEN  \"OMVORM\"  =  'Segaomand' THEN 5  \n",
    "WHEN  \"OMVORM\"  =  'Kinnistamata eraomand' THEN 6  \n",
    "WHEN  \"OMVORM\"  =  'Avalik-õiguslik omand' THEN 7  \n",
    "ELSE 8  \n",
    "END  \n",
    "\n",
    "\n",
    "After that, the \"Rasterize (vector to raster)\" function was applied"
   ]
  },
  {
   "cell_type": "code",
   "execution_count": 3,
   "id": "8aaea5de",
   "metadata": {},
   "outputs": [],
   "source": [
    "ownership_mapping = {\n",
    "    1: 'Private Property',\n",
    "    2: 'State Property',\n",
    "    3: 'Municipal Property',\n",
    "    4: 'Ownership extent under clarification',\n",
    "    5: 'Mixed Ownership',\n",
    "    6: 'Unsecured Private Property',\n",
    "    7: 'Public Property',\n",
    "    8: 'Other values',\n",
    "    0: 'NoData'\n",
    "}"
   ]
  },
  {
   "cell_type": "markdown",
   "id": "a3d928f2",
   "metadata": {},
   "source": [
    "# Tiff multiplication\n",
    "[[Click here to turn back to the table of contents]](#Table-of-contents)"
   ]
  },
  {
   "cell_type": "code",
   "execution_count": 4,
   "id": "a9a0bad6",
   "metadata": {},
   "outputs": [],
   "source": [
    "def multiply_tif_from_base(tif_base, tif_to_multiply, tif_output, tile_size=16384, need_to_resample=False):\n",
    "    \n",
    "    # Open the base raster for multiplication and read its profile and nodata value\n",
    "    with rasterio.open(tif_base) as src:\n",
    "        profile = src.profile\n",
    "        nodata1 = src.meta['nodata']\n",
    "    \n",
    "    # Open the raster to be multiplied and read its nodata value\n",
    "    with rasterio.open(tif_to_multiply) as src:\n",
    "        nodata2 = src.meta['nodata']\n",
    "        \n",
    "    # Open both raster datasets for reading data\n",
    "    tif_base_src = rasterio.open(tif_base)\n",
    "    tif_to_multiply_src = rasterio.open(tif_to_multiply)\n",
    "    \n",
    "    # Open a new raster file for writing the result of the multiplication\n",
    "    with rasterio.open(tif_output, 'w', **profile) as target_src:\n",
    "        with tqdm(total=tif_base_src.height * tif_base_src.width // tile_size // tile_size) as pbar:\n",
    "            for y in range(0, tif_base_src.height, tile_size):\n",
    "                for x in range(0, tif_base_src.width, tile_size):\n",
    "                    w1 = Window(x, y, min(tile_size, tif_base_src.width - x), min(tile_size, tif_base_src.height - y))\n",
    "                    img1 = tif_base_src.read(1, window=w1)  # Read band 1\n",
    "\n",
    "                    # Replace 'no data' with 0 for img1\n",
    "                    if nodata1 is not None:\n",
    "                        img1[img1 == nodata1] = 0\n",
    "\n",
    "                    # Calculate the bounds of the window and adjust it for the multiply raster\n",
    "                    bound = bounds(w1, tif_base_src.transform)\n",
    "                    w2 = from_bounds(*bound, transform=tif_to_multiply_src.transform, width=w1.width, height=w1.height)\n",
    "                    \n",
    "                    img2 = tif_to_multiply_src.read(1, window=w2, boundless=True, resampling=Resampling.nearest if need_to_resample else Resampling.nearest)\n",
    "\n",
    "                    # Replace 'no data' with 0 for img2\n",
    "                    if nodata2 is not None:\n",
    "                        img2[img2 == nodata2] = 0\n",
    "\n",
    "                    # Perform multiplication\n",
    "                    res = img1.astype(np.float32) * img2.astype(np.float32)\n",
    "                    target_src.write(res.astype(np.uint8), 1, window=w1)  # Write to band 1\n",
    "                    pbar.update()\n",
    "\n"
   ]
  },
  {
   "cell_type": "markdown",
   "id": "36d5b1ee",
   "metadata": {},
   "source": [
    "# Pixel count function\n",
    "[[Click here to turn back to the table of contents]](#Table-of-contents)"
   ]
  },
  {
   "cell_type": "code",
   "execution_count": 5,
   "id": "b4e44752",
   "metadata": {},
   "outputs": [],
   "source": [
    "def count_pixels_by_type_windowed_to_df(geotiff_file, window_size=16384):\n",
    "    pixel_counts = {}\n",
    "\n",
    "    # Open the GeoTIFF file\n",
    "    with rasterio.open(geotiff_file) as src:\n",
    "        # Determine the number of windows in each dimension\n",
    "        for j in range(0, src.height, window_size):\n",
    "            for i in range(0, src.width, window_size):\n",
    "                # Define the window\n",
    "                window = Window(i, j, min(window_size, src.width - i), min(window_size, src.height - j))\n",
    "                # Read data in the window\n",
    "                data = src.read(1, window=window)\n",
    "\n",
    "                # Update counts for each unique value in this chunk\n",
    "                unique, counts = np.unique(data, return_counts=True)\n",
    "                for val, count in zip(unique, counts):\n",
    "                    if val in pixel_counts:\n",
    "                        pixel_counts[val] += count\n",
    "                    else:\n",
    "                        pixel_counts[val] = count\n",
    "\n",
    "    # Convert the dictionary to a DataFrame\n",
    "    pixel_df = pd.DataFrame(list(pixel_counts.items()), columns=['Pixel Value', 'Count'])\n",
    "\n",
    "    return pixel_df\n"
   ]
  },
  {
   "cell_type": "markdown",
   "id": "58e0c141",
   "metadata": {},
   "source": [
    "# Result\n",
    "[[Click here to turn back to the table of contents]](#Result)"
   ]
  },
  {
   "cell_type": "code",
   "execution_count": 6,
   "id": "e12c29e1",
   "metadata": {},
   "outputs": [
    {
     "name": "stderr",
     "output_type": "stream",
     "text": [
      "  0%|                                                                                                                                                                                | 0/22 [00:00<?, ?it/s]/Users/rav/dev/virtual_env/lib/python3.9/site-packages/rasterio/windows.py:314: RasterioDeprecationWarning: The height, width, and precision parameters are unused, deprecated, and will be removed in 2.0.0.\n",
      "  warnings.warn(\n",
      "24it [06:01, 15.06s/it]                                                                                                                                                                                     \n"
     ]
    }
   ],
   "source": [
    "# Paths to the files\n",
    "tif_base = '../../Thesis_2024_updates/Subtraction_Results/Final_file.tif'\n",
    "tif_to_multiply = '../../Thesis_2024_updates/Raster_Data/cadastral_units/cadastral_units_rasterized.tif'\n",
    "tif_output = '../../Thesis_2024_updates/Raster_Data/result/distribution_ownership.tif'\n",
    "\n",
    "# Multiply layers\n",
    "multiply_tif_from_base(tif_base, tif_to_multiply, tif_output)\n"
   ]
  },
  {
   "cell_type": "code",
   "execution_count": 8,
   "id": "bbf7b651",
   "metadata": {},
   "outputs": [
    {
     "data": {
      "text/html": [
       "<div>\n",
       "<style scoped>\n",
       "    .dataframe tbody tr th:only-of-type {\n",
       "        vertical-align: middle;\n",
       "    }\n",
       "\n",
       "    .dataframe tbody tr th {\n",
       "        vertical-align: top;\n",
       "    }\n",
       "\n",
       "    .dataframe thead th {\n",
       "        text-align: right;\n",
       "    }\n",
       "</style>\n",
       "<table border=\"1\" class=\"dataframe\">\n",
       "  <thead>\n",
       "    <tr style=\"text-align: right;\">\n",
       "      <th></th>\n",
       "      <th>Pixel Value</th>\n",
       "      <th>Count</th>\n",
       "      <th>area_ha</th>\n",
       "      <th>Translated Pixel Value</th>\n",
       "      <th>%</th>\n",
       "    </tr>\n",
       "  </thead>\n",
       "  <tbody>\n",
       "    <tr>\n",
       "      <th>1</th>\n",
       "      <td>1</td>\n",
       "      <td>64144222</td>\n",
       "      <td>102631</td>\n",
       "      <td>Private Property</td>\n",
       "      <td>78.8</td>\n",
       "    </tr>\n",
       "    <tr>\n",
       "      <th>2</th>\n",
       "      <td>2</td>\n",
       "      <td>10549302</td>\n",
       "      <td>16879</td>\n",
       "      <td>State Property</td>\n",
       "      <td>13.0</td>\n",
       "    </tr>\n",
       "    <tr>\n",
       "      <th>3</th>\n",
       "      <td>3</td>\n",
       "      <td>5670209</td>\n",
       "      <td>9072</td>\n",
       "      <td>Municipal Property</td>\n",
       "      <td>7.0</td>\n",
       "    </tr>\n",
       "    <tr>\n",
       "      <th>4</th>\n",
       "      <td>4</td>\n",
       "      <td>456225</td>\n",
       "      <td>730</td>\n",
       "      <td>Ownership extent under clarification</td>\n",
       "      <td>0.6</td>\n",
       "    </tr>\n",
       "    <tr>\n",
       "      <th>5</th>\n",
       "      <td>5</td>\n",
       "      <td>75124</td>\n",
       "      <td>120</td>\n",
       "      <td>Mixed Ownership</td>\n",
       "      <td>0.1</td>\n",
       "    </tr>\n",
       "    <tr>\n",
       "      <th>6</th>\n",
       "      <td>6</td>\n",
       "      <td>11442</td>\n",
       "      <td>18</td>\n",
       "      <td>Unsecured Private Property</td>\n",
       "      <td>0.0</td>\n",
       "    </tr>\n",
       "    <tr>\n",
       "      <th>7</th>\n",
       "      <td>7</td>\n",
       "      <td>83806</td>\n",
       "      <td>134</td>\n",
       "      <td>Public Property</td>\n",
       "      <td>0.1</td>\n",
       "    </tr>\n",
       "    <tr>\n",
       "      <th>8</th>\n",
       "      <td>8</td>\n",
       "      <td>15</td>\n",
       "      <td>0</td>\n",
       "      <td>Other values</td>\n",
       "      <td>0.0</td>\n",
       "    </tr>\n",
       "  </tbody>\n",
       "</table>\n",
       "</div>"
      ],
      "text/plain": [
       "   Pixel Value     Count  area_ha                Translated Pixel Value     %\n",
       "1            1  64144222   102631                      Private Property  78.8\n",
       "2            2  10549302    16879                        State Property  13.0\n",
       "3            3   5670209     9072                    Municipal Property   7.0\n",
       "4            4    456225      730  Ownership extent under clarification   0.6\n",
       "5            5     75124      120                       Mixed Ownership   0.1\n",
       "6            6     11442       18            Unsecured Private Property   0.0\n",
       "7            7     83806      134                       Public Property   0.1\n",
       "8            8        15        0                          Other values   0.0"
      ]
     },
     "execution_count": 8,
     "metadata": {},
     "output_type": "execute_result"
    }
   ],
   "source": [
    "# Count pixels by ownership type \n",
    "working_tif = '../../Thesis_2024_updates/Raster_Data/result/distribution_ownership.tif'\n",
    "pixel_df = count_pixels_by_type_windowed_to_df(working_tif, window_size=16384)\n",
    "\n",
    "# Calculate the area in hectares\n",
    "pixel_df['area_ha'] = pixel_df['Count'].apply(lambda x: round((x * 16)/10000))\n",
    "\n",
    "# Apply the mapping\n",
    "pixel_df['Translated Pixel Value'] = pixel_df['Pixel Value'].map(ownership_mapping)\n",
    "\n",
    "# Calculate % of total potentially suitable area\n",
    "total_suitable_area = 130160\n",
    "pixel_df['%'] = pixel_df['area_ha'].apply(lambda x: round((x/total_suitable_area) * 100, 1))\n",
    "\n",
    "pixel_df[pixel_df['Pixel Value'] != 0]"
   ]
  }
 ],
 "metadata": {
  "kernelspec": {
   "display_name": "Python 3 (ipykernel)",
   "language": "python",
   "name": "python3"
  },
  "language_info": {
   "codemirror_mode": {
    "name": "ipython",
    "version": 3
   },
   "file_extension": ".py",
   "mimetype": "text/x-python",
   "name": "python",
   "nbconvert_exporter": "python",
   "pygments_lexer": "ipython3",
   "version": "3.9.6"
  }
 },
 "nbformat": 4,
 "nbformat_minor": 5
}
