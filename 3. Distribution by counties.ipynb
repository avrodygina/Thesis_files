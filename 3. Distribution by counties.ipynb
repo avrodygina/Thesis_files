{
 "cells": [
  {
   "cell_type": "markdown",
   "id": "05eeafab",
   "metadata": {},
   "source": [
    "# Distribution by counties"
   ]
  },
  {
   "cell_type": "markdown",
   "id": "f44a8693",
   "metadata": {},
   "source": [
    "This file contains calculations for all identified areas. The vectorization and filtering of areas smaller than 1 hectare were performed using QGIS to ensure accuracy and relevance."
   ]
  },
  {
   "cell_type": "code",
   "execution_count": 1,
   "id": "4f279278",
   "metadata": {},
   "outputs": [],
   "source": [
    "import geopandas as gpd\n",
    "import rasterio\n",
    "from rasterstats import zonal_stats\n",
    "import os\n",
    "import numpy as np\n",
    "import fiona\n",
    "from tqdm import tqdm\n",
    "from shapely.geometry import shape, Polygon\n",
    "from rasterio import features"
   ]
  },
  {
   "cell_type": "markdown",
   "id": "1ca50c17",
   "metadata": {},
   "source": [
    "# Counties preparation\n",
    "[[Click here to turn back to the table of contents]](#Table-of-contents)"
   ]
  },
  {
   "cell_type": "markdown",
   "id": "9e410e23",
   "metadata": {},
   "source": [
    "Loading base layer to see total number of pixels"
   ]
  },
  {
   "cell_type": "code",
   "execution_count": 2,
   "id": "8d6161bf",
   "metadata": {},
   "outputs": [
    {
     "name": "stdout",
     "output_type": "stream",
     "text": [
      "Number of pixels equal to 1: 2716698675\n",
      "Total area of Estonia: 4346718 ha\n"
     ]
    }
   ],
   "source": [
    "#taking parameters from Estonian layer\n",
    "path_scenario_1_r = '../../Thesis_2024_updates/Raster_Data/Scenario_1/'\n",
    "file_name_whole_estonia_r = 'whole_estonia/Estonia_rasterized_0_1.tif'\n",
    "raster_base_layer = os.path.join(path_scenario_1_r, file_name_whole_estonia_r)\n",
    "\n",
    "with rasterio.open(raster_base_layer) as src:\n",
    "    base_trans = src.transform\n",
    "    base_profile = src.profile\n",
    "    base_shape = src.shape\n",
    "    base_data = src.read(1)\n",
    "    \n",
    "# Create a boolean mask where True represents pixels with value 1\n",
    "mask = base_data == 1\n",
    "\n",
    "# Count the number of True values in the mask\n",
    "num_total_pixels = np.sum(mask)\n",
    "total_area_ha = round((num_total_pixels * 16)/10000)\n",
    "\n",
    "print(\"Number of pixels equal to 1:\", num_total_pixels)\n",
    "print(\"Total area of Estonia: {} ha\".format(total_area_ha))"
   ]
  },
  {
   "cell_type": "markdown",
   "id": "ea0e7172",
   "metadata": {},
   "source": [
    "Loading counties"
   ]
  },
  {
   "cell_type": "code",
   "execution_count": 3,
   "id": "77a2c2d6",
   "metadata": {},
   "outputs": [],
   "source": [
    "#taking parameters from Estonian layer\n",
    "#vector path (input)\n",
    "file_name_counties = '../../Thesis_2024_updates/Vector_Data/counties/maakond_shp/maakond_20231101.shp'"
   ]
  },
  {
   "cell_type": "markdown",
   "id": "33ef5493",
   "metadata": {},
   "source": [
    "Reading counties"
   ]
  },
  {
   "cell_type": "code",
   "execution_count": 4,
   "id": "7058ce36",
   "metadata": {},
   "outputs": [
    {
     "data": {
      "text/plain": [
       "(15, 3)"
      ]
     },
     "execution_count": 4,
     "metadata": {},
     "output_type": "execute_result"
    }
   ],
   "source": [
    "# Load the shapefile with the counties\n",
    "counties = gpd.read_file(file_name_counties)\n",
    "counties.shape"
   ]
  },
  {
   "cell_type": "markdown",
   "id": "867a5b02",
   "metadata": {},
   "source": [
    "Preprocess counties"
   ]
  },
  {
   "cell_type": "code",
   "execution_count": 5,
   "id": "0042f70f",
   "metadata": {},
   "outputs": [
    {
     "data": {
      "text/html": [
       "<div>\n",
       "<style scoped>\n",
       "    .dataframe tbody tr th:only-of-type {\n",
       "        vertical-align: middle;\n",
       "    }\n",
       "\n",
       "    .dataframe tbody tr th {\n",
       "        vertical-align: top;\n",
       "    }\n",
       "\n",
       "    .dataframe thead th {\n",
       "        text-align: right;\n",
       "    }\n",
       "</style>\n",
       "<table border=\"1\" class=\"dataframe\">\n",
       "  <thead>\n",
       "    <tr style=\"text-align: right;\">\n",
       "      <th></th>\n",
       "      <th>MNIMI</th>\n",
       "      <th>MKOOD</th>\n",
       "      <th>geometry</th>\n",
       "      <th>name</th>\n",
       "    </tr>\n",
       "  </thead>\n",
       "  <tbody>\n",
       "    <tr>\n",
       "      <th>0</th>\n",
       "      <td>Saare maakond</td>\n",
       "      <td>0074</td>\n",
       "      <td>MULTIPOLYGON (((455191.283 6404986.597, 455187...</td>\n",
       "      <td>Saare county</td>\n",
       "    </tr>\n",
       "    <tr>\n",
       "      <th>1</th>\n",
       "      <td>Viljandi maakond</td>\n",
       "      <td>0084</td>\n",
       "      <td>MULTIPOLYGON (((621049.180 6453125.120, 621052...</td>\n",
       "      <td>Viljandi county</td>\n",
       "    </tr>\n",
       "    <tr>\n",
       "      <th>2</th>\n",
       "      <td>Hiiu maakond</td>\n",
       "      <td>0039</td>\n",
       "      <td>MULTIPOLYGON (((418048.719 6506294.706, 418045...</td>\n",
       "      <td>Hiiu county</td>\n",
       "    </tr>\n",
       "    <tr>\n",
       "      <th>3</th>\n",
       "      <td>Harju maakond</td>\n",
       "      <td>0037</td>\n",
       "      <td>MULTIPOLYGON (((504775.973 6570562.880, 504787...</td>\n",
       "      <td>Harju county</td>\n",
       "    </tr>\n",
       "    <tr>\n",
       "      <th>4</th>\n",
       "      <td>Lääne maakond</td>\n",
       "      <td>0056</td>\n",
       "      <td>MULTIPOLYGON (((460628.287 6512871.566, 460630...</td>\n",
       "      <td>Lääne county</td>\n",
       "    </tr>\n",
       "  </tbody>\n",
       "</table>\n",
       "</div>"
      ],
      "text/plain": [
       "              MNIMI MKOOD                                           geometry  \\\n",
       "0     Saare maakond  0074  MULTIPOLYGON (((455191.283 6404986.597, 455187...   \n",
       "1  Viljandi maakond  0084  MULTIPOLYGON (((621049.180 6453125.120, 621052...   \n",
       "2      Hiiu maakond  0039  MULTIPOLYGON (((418048.719 6506294.706, 418045...   \n",
       "3     Harju maakond  0037  MULTIPOLYGON (((504775.973 6570562.880, 504787...   \n",
       "4     Lääne maakond  0056  MULTIPOLYGON (((460628.287 6512871.566, 460630...   \n",
       "\n",
       "              name  \n",
       "0     Saare county  \n",
       "1  Viljandi county  \n",
       "2      Hiiu county  \n",
       "3     Harju county  \n",
       "4     Lääne county  "
      ]
     },
     "execution_count": 5,
     "metadata": {},
     "output_type": "execute_result"
    }
   ],
   "source": [
    "counties['name'] = counties['MNIMI'].apply(lambda x: x[:-8] + ' county')\n",
    "counties.head()"
   ]
  },
  {
   "cell_type": "markdown",
   "id": "12cd89c7",
   "metadata": {},
   "source": [
    "Calculating the areas of the counties"
   ]
  },
  {
   "cell_type": "code",
   "execution_count": 6,
   "id": "0fbd01b5",
   "metadata": {},
   "outputs": [],
   "source": [
    "# Open the raster layer\n",
    "with rasterio.open(raster_base_layer) as src:\n",
    "    affine = src.transform\n",
    "    array = src.read(1)  # Read the first band\n",
    "    \n",
    "    # Define the statistic to calculate: count of pixels with value 1\n",
    "    stats = zonal_stats(counties, array, affine=affine, stats=['count'], \n",
    "                        categorical=True, nodata=src.nodata)\n",
    "\n",
    "    # Adding the results to the counties GeoDataFrame\n",
    "    counties['num_pixels_county'] = [s.get(1, 0) for s in stats]  # Get count of 1's, default to 0 if no 1's\n",
    "    counties['county_area_ha'] = counties['num_pixels_county'].apply(lambda x: round((x * 16)/10000))"
   ]
  },
  {
   "cell_type": "markdown",
   "id": "db01b141",
   "metadata": {},
   "source": [
    "# Calculations\n",
    "[[Click here to turn back to the table of contents]](#Table-of-contents)"
   ]
  },
  {
   "cell_type": "code",
   "execution_count": 7,
   "id": "24e22724",
   "metadata": {},
   "outputs": [],
   "source": [
    "file_name_suitable_lands = '../../Thesis_2024_updates/Subtraction_Results/Final_file.tif'"
   ]
  },
  {
   "cell_type": "code",
   "execution_count": 9,
   "id": "a45d2075",
   "metadata": {},
   "outputs": [],
   "source": [
    "# Open the raster layer\n",
    "with rasterio.open(file_name_suitable_lands) as src:\n",
    "    affine = src.transform\n",
    "    array = src.read(1)  # Read the first band\n",
    "    \n",
    "    # Define the statistic to calculate: count of pixels with value 1\n",
    "    stats = zonal_stats(counties, array, affine=affine, stats=['count'], \n",
    "                        categorical=True, nodata=src.nodata)\n",
    "\n",
    "    # Adding the results to the counties GeoDataFrame\n",
    "    counties['num_pixels_'] = [s.get(1, 0) for s in stats]  # Get count of 1's, default to 0 if no 1's\n",
    "    counties['suitable_area_ha'] = counties['num_pixels'].apply(lambda x: round((x * 16)/10000))"
   ]
  },
  {
   "cell_type": "code",
   "execution_count": 10,
   "id": "51e09460",
   "metadata": {},
   "outputs": [],
   "source": [
    "counties['percent_of_county'] = round((counties['suitable_area_ha']/counties['county_area_ha']) * 100, 1)\n",
    "counties['percent_of_county_str'] = counties['percent_of_county'].apply(lambda x: str(x) + '%')"
   ]
  },
  {
   "cell_type": "code",
   "execution_count": 11,
   "id": "54702b2b",
   "metadata": {},
   "outputs": [
    {
     "data": {
      "text/html": [
       "<div>\n",
       "<style scoped>\n",
       "    .dataframe tbody tr th:only-of-type {\n",
       "        vertical-align: middle;\n",
       "    }\n",
       "\n",
       "    .dataframe tbody tr th {\n",
       "        vertical-align: top;\n",
       "    }\n",
       "\n",
       "    .dataframe thead th {\n",
       "        text-align: right;\n",
       "    }\n",
       "</style>\n",
       "<table border=\"1\" class=\"dataframe\">\n",
       "  <thead>\n",
       "    <tr style=\"text-align: right;\">\n",
       "      <th></th>\n",
       "      <th>MNIMI</th>\n",
       "      <th>MKOOD</th>\n",
       "      <th>geometry</th>\n",
       "      <th>name</th>\n",
       "      <th>num_pixels_county</th>\n",
       "      <th>county_area_ha</th>\n",
       "      <th>num_pixels_S1</th>\n",
       "      <th>S1_suitable_area_ha</th>\n",
       "      <th>percent_of_county</th>\n",
       "      <th>percent_of_county_str</th>\n",
       "    </tr>\n",
       "  </thead>\n",
       "  <tbody>\n",
       "    <tr>\n",
       "      <th>0</th>\n",
       "      <td>Saare maakond</td>\n",
       "      <td>0074</td>\n",
       "      <td>MULTIPOLYGON (((455191.283 6404986.597, 455187...</td>\n",
       "      <td>Saare county</td>\n",
       "      <td>183644942</td>\n",
       "      <td>293832</td>\n",
       "      <td>5074856</td>\n",
       "      <td>8120</td>\n",
       "      <td>2.8</td>\n",
       "      <td>2.8%</td>\n",
       "    </tr>\n",
       "    <tr>\n",
       "      <th>1</th>\n",
       "      <td>Viljandi maakond</td>\n",
       "      <td>0084</td>\n",
       "      <td>MULTIPOLYGON (((621049.180 6453125.120, 621052...</td>\n",
       "      <td>Viljandi county</td>\n",
       "      <td>213756560</td>\n",
       "      <td>342010</td>\n",
       "      <td>4753528</td>\n",
       "      <td>7606</td>\n",
       "      <td>2.2</td>\n",
       "      <td>2.2%</td>\n",
       "    </tr>\n",
       "    <tr>\n",
       "      <th>2</th>\n",
       "      <td>Hiiu maakond</td>\n",
       "      <td>0039</td>\n",
       "      <td>MULTIPOLYGON (((418048.719 6506294.706, 418045...</td>\n",
       "      <td>Hiiu county</td>\n",
       "      <td>64535957</td>\n",
       "      <td>103258</td>\n",
       "      <td>1687557</td>\n",
       "      <td>2700</td>\n",
       "      <td>2.6</td>\n",
       "      <td>2.6%</td>\n",
       "    </tr>\n",
       "    <tr>\n",
       "      <th>3</th>\n",
       "      <td>Harju maakond</td>\n",
       "      <td>0037</td>\n",
       "      <td>MULTIPOLYGON (((504775.973 6570562.880, 504787...</td>\n",
       "      <td>Harju county</td>\n",
       "      <td>270490035</td>\n",
       "      <td>432784</td>\n",
       "      <td>13069164</td>\n",
       "      <td>20911</td>\n",
       "      <td>4.8</td>\n",
       "      <td>4.8%</td>\n",
       "    </tr>\n",
       "    <tr>\n",
       "      <th>4</th>\n",
       "      <td>Lääne maakond</td>\n",
       "      <td>0056</td>\n",
       "      <td>MULTIPOLYGON (((460628.287 6512871.566, 460630...</td>\n",
       "      <td>Lääne county</td>\n",
       "      <td>113484461</td>\n",
       "      <td>181575</td>\n",
       "      <td>3417874</td>\n",
       "      <td>5469</td>\n",
       "      <td>3.0</td>\n",
       "      <td>3.0%</td>\n",
       "    </tr>\n",
       "  </tbody>\n",
       "</table>\n",
       "</div>"
      ],
      "text/plain": [
       "              MNIMI MKOOD                                           geometry  \\\n",
       "0     Saare maakond  0074  MULTIPOLYGON (((455191.283 6404986.597, 455187...   \n",
       "1  Viljandi maakond  0084  MULTIPOLYGON (((621049.180 6453125.120, 621052...   \n",
       "2      Hiiu maakond  0039  MULTIPOLYGON (((418048.719 6506294.706, 418045...   \n",
       "3     Harju maakond  0037  MULTIPOLYGON (((504775.973 6570562.880, 504787...   \n",
       "4     Lääne maakond  0056  MULTIPOLYGON (((460628.287 6512871.566, 460630...   \n",
       "\n",
       "              name  num_pixels_county  county_area_ha  num_pixels_S1  \\\n",
       "0     Saare county          183644942          293832        5074856   \n",
       "1  Viljandi county          213756560          342010        4753528   \n",
       "2      Hiiu county           64535957          103258        1687557   \n",
       "3     Harju county          270490035          432784       13069164   \n",
       "4     Lääne county          113484461          181575        3417874   \n",
       "\n",
       "   S1_suitable_area_ha  percent_of_county percent_of_county_str  \n",
       "0                 8120                2.8                  2.8%  \n",
       "1                 7606                2.2                  2.2%  \n",
       "2                 2700                2.6                  2.6%  \n",
       "3                20911                4.8                  4.8%  \n",
       "4                 5469                3.0                  3.0%  "
      ]
     },
     "execution_count": 11,
     "metadata": {},
     "output_type": "execute_result"
    }
   ],
   "source": [
    "counties.head()"
   ]
  },
  {
   "cell_type": "code",
   "execution_count": 12,
   "id": "aff37179",
   "metadata": {},
   "outputs": [
    {
     "name": "stderr",
     "output_type": "stream",
     "text": [
      "/var/folders/z4/9280v_g94039tvyzq2n4yrd40000gn/T/ipykernel_83139/556985071.py:1: UserWarning: Column names longer than 10 characters will be truncated when saved to ESRI Shapefile.\n",
      "  counties.to_file('../../Thesis_2024_updates/Vector_Data/counties/counties_with_pixel_count_S1.shp')\n"
     ]
    }
   ],
   "source": [
    "counties.to_file('../../Thesis_2024_updates/Vector_Data/counties/counties_with_pixel_count.shp')"
   ]
  },
  {
   "cell_type": "code",
   "execution_count": 13,
   "id": "a52cc922",
   "metadata": {},
   "outputs": [
    {
     "data": {
      "text/html": [
       "<div>\n",
       "<style scoped>\n",
       "    .dataframe tbody tr th:only-of-type {\n",
       "        vertical-align: middle;\n",
       "    }\n",
       "\n",
       "    .dataframe tbody tr th {\n",
       "        vertical-align: top;\n",
       "    }\n",
       "\n",
       "    .dataframe thead th {\n",
       "        text-align: right;\n",
       "    }\n",
       "</style>\n",
       "<table border=\"1\" class=\"dataframe\">\n",
       "  <thead>\n",
       "    <tr style=\"text-align: right;\">\n",
       "      <th></th>\n",
       "      <th>name</th>\n",
       "      <th>S1_suitable_area_ha</th>\n",
       "      <th>county_area_ha</th>\n",
       "      <th>percent_of_county_str</th>\n",
       "    </tr>\n",
       "  </thead>\n",
       "  <tbody>\n",
       "    <tr>\n",
       "      <th>3</th>\n",
       "      <td>Harju county</td>\n",
       "      <td>20911</td>\n",
       "      <td>432784</td>\n",
       "      <td>4.8%</td>\n",
       "    </tr>\n",
       "    <tr>\n",
       "      <th>6</th>\n",
       "      <td>Ida-Viru county</td>\n",
       "      <td>10792</td>\n",
       "      <td>297177</td>\n",
       "      <td>3.6%</td>\n",
       "    </tr>\n",
       "    <tr>\n",
       "      <th>8</th>\n",
       "      <td>Tartu county</td>\n",
       "      <td>12043</td>\n",
       "      <td>334947</td>\n",
       "      <td>3.6%</td>\n",
       "    </tr>\n",
       "    <tr>\n",
       "      <th>13</th>\n",
       "      <td>Lääne-Viru county</td>\n",
       "      <td>13272</td>\n",
       "      <td>369538</td>\n",
       "      <td>3.6%</td>\n",
       "    </tr>\n",
       "    <tr>\n",
       "      <th>4</th>\n",
       "      <td>Lääne county</td>\n",
       "      <td>5469</td>\n",
       "      <td>181575</td>\n",
       "      <td>3.0%</td>\n",
       "    </tr>\n",
       "    <tr>\n",
       "      <th>5</th>\n",
       "      <td>Rapla county</td>\n",
       "      <td>8018</td>\n",
       "      <td>276423</td>\n",
       "      <td>2.9%</td>\n",
       "    </tr>\n",
       "    <tr>\n",
       "      <th>0</th>\n",
       "      <td>Saare county</td>\n",
       "      <td>8120</td>\n",
       "      <td>293832</td>\n",
       "      <td>2.8%</td>\n",
       "    </tr>\n",
       "    <tr>\n",
       "      <th>10</th>\n",
       "      <td>Võru county</td>\n",
       "      <td>7413</td>\n",
       "      <td>277317</td>\n",
       "      <td>2.7%</td>\n",
       "    </tr>\n",
       "    <tr>\n",
       "      <th>2</th>\n",
       "      <td>Hiiu county</td>\n",
       "      <td>2700</td>\n",
       "      <td>103258</td>\n",
       "      <td>2.6%</td>\n",
       "    </tr>\n",
       "    <tr>\n",
       "      <th>14</th>\n",
       "      <td>Põlva county</td>\n",
       "      <td>4788</td>\n",
       "      <td>182337</td>\n",
       "      <td>2.6%</td>\n",
       "    </tr>\n",
       "    <tr>\n",
       "      <th>7</th>\n",
       "      <td>Valga county</td>\n",
       "      <td>4766</td>\n",
       "      <td>191704</td>\n",
       "      <td>2.5%</td>\n",
       "    </tr>\n",
       "    <tr>\n",
       "      <th>12</th>\n",
       "      <td>Pärnu county</td>\n",
       "      <td>12816</td>\n",
       "      <td>541910</td>\n",
       "      <td>2.4%</td>\n",
       "    </tr>\n",
       "    <tr>\n",
       "      <th>11</th>\n",
       "      <td>Jõgeva county</td>\n",
       "      <td>5770</td>\n",
       "      <td>254494</td>\n",
       "      <td>2.3%</td>\n",
       "    </tr>\n",
       "    <tr>\n",
       "      <th>1</th>\n",
       "      <td>Viljandi county</td>\n",
       "      <td>7606</td>\n",
       "      <td>342010</td>\n",
       "      <td>2.2%</td>\n",
       "    </tr>\n",
       "    <tr>\n",
       "      <th>9</th>\n",
       "      <td>Järva county</td>\n",
       "      <td>5578</td>\n",
       "      <td>267412</td>\n",
       "      <td>2.1%</td>\n",
       "    </tr>\n",
       "  </tbody>\n",
       "</table>\n",
       "</div>"
      ],
      "text/plain": [
       "                 name  S1_suitable_area_ha  county_area_ha  \\\n",
       "3        Harju county                20911          432784   \n",
       "6     Ida-Viru county                10792          297177   \n",
       "8        Tartu county                12043          334947   \n",
       "13  Lääne-Viru county                13272          369538   \n",
       "4        Lääne county                 5469          181575   \n",
       "5        Rapla county                 8018          276423   \n",
       "0        Saare county                 8120          293832   \n",
       "10        Võru county                 7413          277317   \n",
       "2         Hiiu county                 2700          103258   \n",
       "14       Põlva county                 4788          182337   \n",
       "7        Valga county                 4766          191704   \n",
       "12       Pärnu county                12816          541910   \n",
       "11      Jõgeva county                 5770          254494   \n",
       "1     Viljandi county                 7606          342010   \n",
       "9        Järva county                 5578          267412   \n",
       "\n",
       "   percent_of_county_str  \n",
       "3                   4.8%  \n",
       "6                   3.6%  \n",
       "8                   3.6%  \n",
       "13                  3.6%  \n",
       "4                   3.0%  \n",
       "5                   2.9%  \n",
       "0                   2.8%  \n",
       "10                  2.7%  \n",
       "2                   2.6%  \n",
       "14                  2.6%  \n",
       "7                   2.5%  \n",
       "12                  2.4%  \n",
       "11                  2.3%  \n",
       "1                   2.2%  \n",
       "9                   2.1%  "
      ]
     },
     "execution_count": 13,
     "metadata": {},
     "output_type": "execute_result"
    }
   ],
   "source": [
    "counties_nice = counties.sort_values(by='percent_of_county', ascending=False)[['name', 'suitable_area_ha', 'county_area_ha', 'percent_of_county_str']]\n",
    "counties_nice"
   ]
  },
  {
   "cell_type": "markdown",
   "id": "dba3cfa8",
   "metadata": {},
   "source": []
  }
 ],
 "metadata": {
  "kernelspec": {
   "display_name": "Python 3 (ipykernel)",
   "language": "python",
   "name": "python3"
  },
  "language_info": {
   "codemirror_mode": {
    "name": "ipython",
    "version": 3
   },
   "file_extension": ".py",
   "mimetype": "text/x-python",
   "name": "python",
   "nbconvert_exporter": "python",
   "pygments_lexer": "ipython3",
   "version": "3.9.6"
  }
 },
 "nbformat": 4,
 "nbformat_minor": 5
}
